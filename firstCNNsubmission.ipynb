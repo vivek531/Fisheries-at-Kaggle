{
 "cells": [
  {
   "cell_type": "code",
   "execution_count": 4,
   "metadata": {
    "collapsed": true
   },
   "outputs": [],
   "source": [
    "import PIL"
   ]
  },
  {
   "cell_type": "code",
   "execution_count": 5,
   "metadata": {
    "collapsed": false
   },
   "outputs": [
    {
     "name": "stdout",
     "output_type": "stream",
     "text": [
      "Found 3777 images belonging to 8 classes.\n",
      "Found 80 images belonging to 8 classes.\n",
      "Epoch 1/50\n",
      "1984/2000 [============================>.] - ETA: 1s - loss: 1.7577 - acc: 0.4395"
     ]
    },
    {
     "name": "stderr",
     "output_type": "stream",
     "text": [
      "/Users/Masters/anaconda2/lib/python2.7/site-packages/keras/engine/training.py:1527: UserWarning: Epoch comprised more than `samples_per_epoch` samples, which might affect learning results. Set `samples_per_epoch` correctly to avoid this warning.\n",
      "  warnings.warn('Epoch comprised more than '\n"
     ]
    },
    {
     "name": "stdout",
     "output_type": "stream",
     "text": [
      "2016/2000 [==============================] - 195s - loss: 1.7589 - acc: 0.4400 - val_loss: 2.1481 - val_acc: 0.2000\n",
      "Epoch 2/50\n",
      "2017/2000 [==============================] - 182s - loss: 1.5991 - acc: 0.4398 - val_loss: 2.0826 - val_acc: 0.2475\n",
      "Epoch 3/50\n",
      "2016/2000 [==============================] - 435s - loss: 1.5101 - acc: 0.5089 - val_loss: 1.8872 - val_acc: 0.2650\n",
      "Epoch 4/50\n",
      "2017/2000 [==============================] - 178s - loss: 1.4279 - acc: 0.5335 - val_loss: 1.7690 - val_acc: 0.2375\n",
      "Epoch 5/50\n",
      "2016/2000 [==============================] - 177s - loss: 1.3417 - acc: 0.5387 - val_loss: 1.7084 - val_acc: 0.3287\n",
      "Epoch 6/50\n",
      "2017/2000 [==============================] - 179s - loss: 1.2989 - acc: 0.5568 - val_loss: 1.5505 - val_acc: 0.3337\n",
      "Epoch 7/50\n",
      "2016/2000 [==============================] - 181s - loss: 1.1894 - acc: 0.5908 - val_loss: 1.5445 - val_acc: 0.3375\n",
      "Epoch 8/50\n",
      "2017/2000 [==============================] - 183s - loss: 1.1781 - acc: 0.6009 - val_loss: 1.6389 - val_acc: 0.4100\n",
      "Epoch 9/50\n",
      "2016/2000 [==============================] - 183s - loss: 1.1065 - acc: 0.6270 - val_loss: 1.5734 - val_acc: 0.3987\n",
      "Epoch 10/50\n",
      "2017/2000 [==============================] - 176s - loss: 1.0718 - acc: 0.6257 - val_loss: 1.4236 - val_acc: 0.4125\n",
      "Epoch 11/50\n",
      "2016/2000 [==============================] - 178s - loss: 1.0153 - acc: 0.6533 - val_loss: 1.1744 - val_acc: 0.5513\n",
      "Epoch 12/50\n",
      "2017/2000 [==============================] - 178s - loss: 0.9752 - acc: 0.6688 - val_loss: 1.3846 - val_acc: 0.4763\n",
      "Epoch 13/50\n",
      "2016/2000 [==============================] - 180s - loss: 0.9927 - acc: 0.6741 - val_loss: 1.0664 - val_acc: 0.6500\n",
      "Epoch 14/50\n",
      "2017/2000 [==============================] - 192s - loss: 0.9029 - acc: 0.6946 - val_loss: 1.0950 - val_acc: 0.6388\n",
      "Epoch 15/50\n",
      "2017/2000 [==============================] - 200s - loss: 0.8665 - acc: 0.6941 - val_loss: 1.0063 - val_acc: 0.6887\n",
      "Epoch 16/50\n",
      "2016/2000 [==============================] - 194s - loss: 0.8421 - acc: 0.7217 - val_loss: 0.7361 - val_acc: 0.8125\n",
      "Epoch 17/50\n",
      "2017/2000 [==============================] - 178s - loss: 0.8566 - acc: 0.7000 - val_loss: 0.6605 - val_acc: 0.7963\n",
      "Epoch 18/50\n",
      "2016/2000 [==============================] - 177s - loss: 0.8121 - acc: 0.7277 - val_loss: 0.6967 - val_acc: 0.7850\n",
      "Epoch 19/50\n",
      "2017/2000 [==============================] - 178s - loss: 0.7756 - acc: 0.7318 - val_loss: 0.5908 - val_acc: 0.7625\n",
      "Epoch 20/50\n",
      "2016/2000 [==============================] - 180s - loss: 0.7782 - acc: 0.7431 - val_loss: 0.6341 - val_acc: 0.7837\n",
      "Epoch 21/50\n",
      "2017/2000 [==============================] - 176s - loss: 0.7413 - acc: 0.7387 - val_loss: 0.8832 - val_acc: 0.7475\n",
      "Epoch 22/50\n",
      "2016/2000 [==============================] - 176s - loss: 0.7613 - acc: 0.7445 - val_loss: 0.5036 - val_acc: 0.8750\n",
      "Epoch 23/50\n",
      "2017/2000 [==============================] - 177s - loss: 0.7302 - acc: 0.7516 - val_loss: 0.5864 - val_acc: 0.8625\n",
      "Epoch 24/50\n",
      "2016/2000 [==============================] - 175s - loss: 0.7192 - acc: 0.7679 - val_loss: 0.4454 - val_acc: 0.8275\n",
      "Epoch 25/50\n",
      "2017/2000 [==============================] - 176s - loss: 0.6484 - acc: 0.7819 - val_loss: 0.5314 - val_acc: 0.8125\n",
      "Epoch 26/50\n",
      "2016/2000 [==============================] - 176s - loss: 0.6892 - acc: 0.7723 - val_loss: 0.4986 - val_acc: 0.8375\n",
      "Epoch 27/50\n",
      "2017/2000 [==============================] - 175s - loss: 0.6935 - acc: 0.7680 - val_loss: 0.4513 - val_acc: 0.8788\n",
      "Epoch 28/50\n",
      "2016/2000 [==============================] - 181s - loss: 0.6603 - acc: 0.7773 - val_loss: 0.3699 - val_acc: 0.9125\n",
      "Epoch 29/50\n",
      "2017/2000 [==============================] - 182s - loss: 0.6380 - acc: 0.7903 - val_loss: 0.4237 - val_acc: 0.8900\n",
      "Epoch 30/50\n",
      "2017/2000 [==============================] - 179s - loss: 0.6757 - acc: 0.7824 - val_loss: 0.7393 - val_acc: 0.7450\n",
      "Epoch 31/50\n",
      "2016/2000 [==============================] - 178s - loss: 0.6620 - acc: 0.7773 - val_loss: 0.4142 - val_acc: 0.8750\n",
      "Epoch 32/50\n",
      "2017/2000 [==============================] - 184s - loss: 0.6410 - acc: 0.7972 - val_loss: 0.4295 - val_acc: 0.8512\n",
      "Epoch 33/50\n",
      "2016/2000 [==============================] - 180s - loss: 0.6274 - acc: 0.7912 - val_loss: 0.3013 - val_acc: 0.9125\n",
      "Epoch 34/50\n",
      "2017/2000 [==============================] - 183s - loss: 0.5664 - acc: 0.8042 - val_loss: 0.4169 - val_acc: 0.8125\n",
      "Epoch 35/50\n",
      "2016/2000 [==============================] - 181s - loss: 0.6199 - acc: 0.7961 - val_loss: 0.2976 - val_acc: 0.9287\n",
      "Epoch 36/50\n",
      "2017/2000 [==============================] - 178s - loss: 0.5901 - acc: 0.7977 - val_loss: 0.2057 - val_acc: 0.9100\n",
      "Epoch 37/50\n",
      "2016/2000 [==============================] - 178s - loss: 0.6124 - acc: 0.8006 - val_loss: 0.2548 - val_acc: 0.9125\n",
      "Epoch 38/50\n",
      "2017/2000 [==============================] - 180s - loss: 0.6239 - acc: 0.7962 - val_loss: 0.2773 - val_acc: 0.9087\n",
      "Epoch 39/50\n",
      "2016/2000 [==============================] - 182s - loss: 0.5892 - acc: 0.7976 - val_loss: 0.3968 - val_acc: 0.8762\n",
      "Epoch 40/50\n",
      "2017/2000 [==============================] - 183s - loss: 0.5966 - acc: 0.8027 - val_loss: 0.3307 - val_acc: 0.9125\n",
      "Epoch 41/50\n",
      "2016/2000 [==============================] - 176s - loss: 0.5941 - acc: 0.8170 - val_loss: 0.3408 - val_acc: 0.8538\n",
      "Epoch 42/50\n",
      "2017/2000 [==============================] - 169s - loss: 0.6125 - acc: 0.8176 - val_loss: 0.3057 - val_acc: 0.9000\n",
      "Epoch 43/50\n",
      "2016/2000 [==============================] - 168s - loss: 0.5564 - acc: 0.8155 - val_loss: 0.2469 - val_acc: 0.9250\n",
      "Epoch 44/50\n",
      "2017/2000 [==============================] - 170s - loss: 0.5499 - acc: 0.8176 - val_loss: 0.2449 - val_acc: 0.8988\n",
      "Epoch 45/50\n",
      "2017/2000 [==============================] - 168s - loss: 0.5698 - acc: 0.8290 - val_loss: 0.3273 - val_acc: 0.8875\n",
      "Epoch 46/50\n",
      "2016/2000 [==============================] - 3029s - loss: 0.5652 - acc: 0.8199 - val_loss: 0.2509 - val_acc: 0.9250\n",
      "Epoch 47/50\n",
      "2017/2000 [==============================] - 4201s - loss: 0.5938 - acc: 0.8146 - val_loss: 0.3694 - val_acc: 0.9363\n",
      "Epoch 48/50\n",
      "2016/2000 [==============================] - 1917s - loss: 0.5702 - acc: 0.8110 - val_loss: 0.3477 - val_acc: 0.9762\n",
      "Epoch 49/50\n",
      "2017/2000 [==============================] - 180s - loss: 0.5581 - acc: 0.8235 - val_loss: 0.3586 - val_acc: 0.9375\n",
      "Epoch 50/50\n",
      "2016/2000 [==============================] - 185s - loss: 0.5291 - acc: 0.8299 - val_loss: 0.4892 - val_acc: 0.9012\n"
     ]
    },
    {
     "ename": "IOError",
     "evalue": "Unable to open file (Unable to open file: name = 'first_try.h5', errno = 2, error message = 'no such file or directory', flags = 0, o_flags = 0)",
     "output_type": "error",
     "traceback": [
      "\u001b[0;31m---------------------------------------------------------------------------\u001b[0m",
      "\u001b[0;31mIOError\u001b[0m                                   Traceback (most recent call last)",
      "\u001b[0;32m<ipython-input-5-33b289affeba>\u001b[0m in \u001b[0;36m<module>\u001b[0;34m()\u001b[0m\n\u001b[1;32m     69\u001b[0m         nb_val_samples=nb_validation_samples)\n\u001b[1;32m     70\u001b[0m \u001b[0;34m\u001b[0m\u001b[0m\n\u001b[0;32m---> 71\u001b[0;31m \u001b[0mmodel\u001b[0m\u001b[0;34m.\u001b[0m\u001b[0mload_weights\u001b[0m\u001b[0;34m(\u001b[0m\u001b[0;34m'first_try.h5'\u001b[0m\u001b[0;34m)\u001b[0m\u001b[0;34m\u001b[0m\u001b[0m\n\u001b[0m",
      "\u001b[0;32m/Users/Masters/anaconda2/lib/python2.7/site-packages/keras/engine/topology.pyc\u001b[0m in \u001b[0;36mload_weights\u001b[0;34m(self, filepath, by_name)\u001b[0m\n\u001b[1;32m   2693\u001b[0m         '''\n\u001b[1;32m   2694\u001b[0m         \u001b[0;32mimport\u001b[0m \u001b[0mh5py\u001b[0m\u001b[0;34m\u001b[0m\u001b[0m\n\u001b[0;32m-> 2695\u001b[0;31m         \u001b[0mf\u001b[0m \u001b[0;34m=\u001b[0m \u001b[0mh5py\u001b[0m\u001b[0;34m.\u001b[0m\u001b[0mFile\u001b[0m\u001b[0;34m(\u001b[0m\u001b[0mfilepath\u001b[0m\u001b[0;34m,\u001b[0m \u001b[0mmode\u001b[0m\u001b[0;34m=\u001b[0m\u001b[0;34m'r'\u001b[0m\u001b[0;34m)\u001b[0m\u001b[0;34m\u001b[0m\u001b[0m\n\u001b[0m\u001b[1;32m   2696\u001b[0m         \u001b[0;32mif\u001b[0m \u001b[0;34m'layer_names'\u001b[0m \u001b[0;32mnot\u001b[0m \u001b[0;32min\u001b[0m \u001b[0mf\u001b[0m\u001b[0;34m.\u001b[0m\u001b[0mattrs\u001b[0m \u001b[0;32mand\u001b[0m \u001b[0;34m'model_weights'\u001b[0m \u001b[0;32min\u001b[0m \u001b[0mf\u001b[0m\u001b[0;34m:\u001b[0m\u001b[0;34m\u001b[0m\u001b[0m\n\u001b[1;32m   2697\u001b[0m             \u001b[0mf\u001b[0m \u001b[0;34m=\u001b[0m \u001b[0mf\u001b[0m\u001b[0;34m[\u001b[0m\u001b[0;34m'model_weights'\u001b[0m\u001b[0;34m]\u001b[0m\u001b[0;34m\u001b[0m\u001b[0m\n",
      "\u001b[0;32m/Users/Masters/anaconda2/lib/python2.7/site-packages/h5py/_hl/files.pyc\u001b[0m in \u001b[0;36m__init__\u001b[0;34m(self, name, mode, driver, libver, userblock_size, swmr, **kwds)\u001b[0m\n\u001b[1;32m    270\u001b[0m \u001b[0;34m\u001b[0m\u001b[0m\n\u001b[1;32m    271\u001b[0m                 \u001b[0mfapl\u001b[0m \u001b[0;34m=\u001b[0m \u001b[0mmake_fapl\u001b[0m\u001b[0;34m(\u001b[0m\u001b[0mdriver\u001b[0m\u001b[0;34m,\u001b[0m \u001b[0mlibver\u001b[0m\u001b[0;34m,\u001b[0m \u001b[0;34m**\u001b[0m\u001b[0mkwds\u001b[0m\u001b[0;34m)\u001b[0m\u001b[0;34m\u001b[0m\u001b[0m\n\u001b[0;32m--> 272\u001b[0;31m                 \u001b[0mfid\u001b[0m \u001b[0;34m=\u001b[0m \u001b[0mmake_fid\u001b[0m\u001b[0;34m(\u001b[0m\u001b[0mname\u001b[0m\u001b[0;34m,\u001b[0m \u001b[0mmode\u001b[0m\u001b[0;34m,\u001b[0m \u001b[0muserblock_size\u001b[0m\u001b[0;34m,\u001b[0m \u001b[0mfapl\u001b[0m\u001b[0;34m,\u001b[0m \u001b[0mswmr\u001b[0m\u001b[0;34m=\u001b[0m\u001b[0mswmr\u001b[0m\u001b[0;34m)\u001b[0m\u001b[0;34m\u001b[0m\u001b[0m\n\u001b[0m\u001b[1;32m    273\u001b[0m \u001b[0;34m\u001b[0m\u001b[0m\n\u001b[1;32m    274\u001b[0m                 \u001b[0;32mif\u001b[0m \u001b[0mswmr_support\u001b[0m\u001b[0;34m:\u001b[0m\u001b[0;34m\u001b[0m\u001b[0m\n",
      "\u001b[0;32m/Users/Masters/anaconda2/lib/python2.7/site-packages/h5py/_hl/files.pyc\u001b[0m in \u001b[0;36mmake_fid\u001b[0;34m(name, mode, userblock_size, fapl, fcpl, swmr)\u001b[0m\n\u001b[1;32m     90\u001b[0m         \u001b[0;32mif\u001b[0m \u001b[0mswmr\u001b[0m \u001b[0;32mand\u001b[0m \u001b[0mswmr_support\u001b[0m\u001b[0;34m:\u001b[0m\u001b[0;34m\u001b[0m\u001b[0m\n\u001b[1;32m     91\u001b[0m             \u001b[0mflags\u001b[0m \u001b[0;34m|=\u001b[0m \u001b[0mh5f\u001b[0m\u001b[0;34m.\u001b[0m\u001b[0mACC_SWMR_READ\u001b[0m\u001b[0;34m\u001b[0m\u001b[0m\n\u001b[0;32m---> 92\u001b[0;31m         \u001b[0mfid\u001b[0m \u001b[0;34m=\u001b[0m \u001b[0mh5f\u001b[0m\u001b[0;34m.\u001b[0m\u001b[0mopen\u001b[0m\u001b[0;34m(\u001b[0m\u001b[0mname\u001b[0m\u001b[0;34m,\u001b[0m \u001b[0mflags\u001b[0m\u001b[0;34m,\u001b[0m \u001b[0mfapl\u001b[0m\u001b[0;34m=\u001b[0m\u001b[0mfapl\u001b[0m\u001b[0;34m)\u001b[0m\u001b[0;34m\u001b[0m\u001b[0m\n\u001b[0m\u001b[1;32m     93\u001b[0m     \u001b[0;32melif\u001b[0m \u001b[0mmode\u001b[0m \u001b[0;34m==\u001b[0m \u001b[0;34m'r+'\u001b[0m\u001b[0;34m:\u001b[0m\u001b[0;34m\u001b[0m\u001b[0m\n\u001b[1;32m     94\u001b[0m         \u001b[0mfid\u001b[0m \u001b[0;34m=\u001b[0m \u001b[0mh5f\u001b[0m\u001b[0;34m.\u001b[0m\u001b[0mopen\u001b[0m\u001b[0;34m(\u001b[0m\u001b[0mname\u001b[0m\u001b[0;34m,\u001b[0m \u001b[0mh5f\u001b[0m\u001b[0;34m.\u001b[0m\u001b[0mACC_RDWR\u001b[0m\u001b[0;34m,\u001b[0m \u001b[0mfapl\u001b[0m\u001b[0;34m=\u001b[0m\u001b[0mfapl\u001b[0m\u001b[0;34m)\u001b[0m\u001b[0;34m\u001b[0m\u001b[0m\n",
      "\u001b[0;32mh5py/_objects.pyx\u001b[0m in \u001b[0;36mh5py._objects.with_phil.wrapper (/Users/ilan/minonda/conda-bld/work/h5py/_objects.c:2696)\u001b[0;34m()\u001b[0m\n",
      "\u001b[0;32mh5py/_objects.pyx\u001b[0m in \u001b[0;36mh5py._objects.with_phil.wrapper (/Users/ilan/minonda/conda-bld/work/h5py/_objects.c:2654)\u001b[0;34m()\u001b[0m\n",
      "\u001b[0;32mh5py/h5f.pyx\u001b[0m in \u001b[0;36mh5py.h5f.open (/Users/ilan/minonda/conda-bld/work/h5py/h5f.c:1942)\u001b[0;34m()\u001b[0m\n",
      "\u001b[0;31mIOError\u001b[0m: Unable to open file (Unable to open file: name = 'first_try.h5', errno = 2, error message = 'no such file or directory', flags = 0, o_flags = 0)"
     ]
    }
   ],
   "source": [
    "from keras.preprocessing.image import ImageDataGenerator\n",
    "from keras.models import Sequential\n",
    "from keras.layers import Convolution2D, MaxPooling2D\n",
    "from keras.layers import Activation, Dropout, Flatten, Dense\n",
    "\n",
    "\n",
    "# dimensions of our images.\n",
    "img_width, img_height = 150, 150\n",
    "\n",
    "train_data_dir = './train/'\n",
    "validation_data_dir = './valid/'\n",
    "nb_train_samples = 2000\n",
    "nb_validation_samples = 800\n",
    "nb_epoch = 50\n",
    "\n",
    "\n",
    "model = Sequential()\n",
    "model.add(Convolution2D(32, 3, 3, input_shape=(3, img_width, img_height)))\n",
    "model.add(Activation('relu'))\n",
    "model.add(MaxPooling2D(pool_size=(2, 2)))\n",
    "\n",
    "model.add(Convolution2D(32, 3, 3))\n",
    "model.add(Activation('relu'))\n",
    "model.add(MaxPooling2D(pool_size=(2, 2)))\n",
    "\n",
    "model.add(Convolution2D(64, 3, 3))\n",
    "model.add(Activation('relu'))\n",
    "model.add(MaxPooling2D(pool_size=(2, 2)))\n",
    "\n",
    "model.add(Flatten())\n",
    "model.add(Dense(64))\n",
    "model.add(Activation('relu'))\n",
    "model.add(Dropout(0.5))\n",
    "model.add(Dense(8))\n",
    "model.add(Activation('softmax'))\n",
    "\n",
    "model.compile(loss='categorical_crossentropy',\n",
    "              optimizer='rmsprop',\n",
    "              metrics=['accuracy'])\n",
    "\n",
    "# this is the augmentation configuration we will use for training\n",
    "train_datagen = ImageDataGenerator(\n",
    "        rescale=1./255,\n",
    "        shear_range=0.2,\n",
    "        zoom_range=0.2,\n",
    "        horizontal_flip=True)\n",
    "\n",
    "# this is the augmentation configuration we will use for testing:\n",
    "# only rescaling\n",
    "test_datagen = ImageDataGenerator(rescale=1./255)\n",
    "\n",
    "train_generator = train_datagen.flow_from_directory(\n",
    "        train_data_dir,\n",
    "        target_size=(img_width, img_height),\n",
    "        batch_size=32,\n",
    "        class_mode='categorical')\n",
    "\n",
    "validation_generator = test_datagen.flow_from_directory(\n",
    "        validation_data_dir,\n",
    "        target_size=(img_width, img_height),\n",
    "        batch_size=32,\n",
    "        class_mode='categorical')\n",
    "\n",
    "model.fit_generator(\n",
    "        train_generator,\n",
    "        samples_per_epoch=nb_train_samples,\n",
    "        nb_epoch=nb_epoch,\n",
    "        validation_data=validation_generator,\n",
    "        nb_val_samples=nb_validation_samples)\n",
    "\n",
    "model.load_weights('first_try.h5')"
   ]
  },
  {
   "cell_type": "code",
   "execution_count": 7,
   "metadata": {
    "collapsed": false
   },
   "outputs": [],
   "source": [
    "model.save_weights('first_try.h5')  # always save your weights after training or during training"
   ]
  },
  {
   "cell_type": "code",
   "execution_count": 8,
   "metadata": {
    "collapsed": true
   },
   "outputs": [],
   "source": [
    "model.save('my_model.h5') "
   ]
  },
  {
   "cell_type": "code",
   "execution_count": 57,
   "metadata": {
    "collapsed": true
   },
   "outputs": [],
   "source": [
    "import glob\n",
    "import os\n",
    "import cv2\n",
    "import numpy as np\n",
    "\n",
    "def load_test_imgs(dir):\n",
    "    images = []\n",
    "    labels = []\n",
    "    list_imgs = glob.glob(dir+\"/*.jpg\")\n",
    "    for subdir in list_imgs:\n",
    "        img = cv2.imread(subdir)  \n",
    "        resized = cv2.resize(img, (150, 150))\n",
    "        x = img_to_array(resized)  # this is a Numpy array with shape (3, 150, 150)\n",
    "        #x = x.reshape((1,) + x.shape)\n",
    "        x = x/255.0\n",
    "        flbase = os.path.basename(subdir)\n",
    "        labels.append(flbase)\n",
    "        images.append(x)\n",
    "    return images, labels\n",
    "\n",
    "        "
   ]
  },
  {
   "cell_type": "code",
   "execution_count": 61,
   "metadata": {
    "collapsed": true
   },
   "outputs": [],
   "source": [
    "test_images, test_labels = load_test_imgs(\"./test_stg1/\")"
   ]
  },
  {
   "cell_type": "code",
   "execution_count": 62,
   "metadata": {
    "collapsed": false
   },
   "outputs": [],
   "source": [
    "test_images = np.array(test_images)"
   ]
  },
  {
   "cell_type": "code",
   "execution_count": 63,
   "metadata": {
    "collapsed": false
   },
   "outputs": [
    {
     "data": {
      "text/plain": [
       "(1000, 3, 150, 150)"
      ]
     },
     "execution_count": 63,
     "metadata": {},
     "output_type": "execute_result"
    }
   ],
   "source": [
    "test_images.shape"
   ]
  },
  {
   "cell_type": "code",
   "execution_count": 64,
   "metadata": {
    "collapsed": false
   },
   "outputs": [
    {
     "name": "stdout",
     "output_type": "stream",
     "text": [
      "1000/1000 [==============================] - 8s     \n"
     ]
    }
   ],
   "source": [
    "predictions = model.predict_proba(test_images)"
   ]
  },
  {
   "cell_type": "code",
   "execution_count": 65,
   "metadata": {
    "collapsed": false
   },
   "outputs": [
    {
     "data": {
      "text/plain": [
       "(1000, 8)"
      ]
     },
     "execution_count": 65,
     "metadata": {},
     "output_type": "execute_result"
    }
   ],
   "source": [
    "predictions.shape"
   ]
  },
  {
   "cell_type": "code",
   "execution_count": 68,
   "metadata": {
    "collapsed": false
   },
   "outputs": [],
   "source": [
    "import pandas as pd\n",
    "\n",
    "df = pd.DataFrame({'image': test_labels, \n",
    "                   'ALB': predictions[:,0],\t\n",
    "                   'BET': predictions[:,1],\n",
    "                   'DOL': predictions[:,2],\n",
    "                   'LAG': predictions[:,3],\n",
    "                   'NoF': predictions[:,4],\n",
    "                   'OTHER': predictions[:,5],\n",
    "                   'SHARK': predictions[:,6],\n",
    "                   'YFT': predictions[:,7]})"
   ]
  },
  {
   "cell_type": "code",
   "execution_count": 70,
   "metadata": {
    "collapsed": true
   },
   "outputs": [],
   "source": [
    "df.to_csv(\"./first_submission.csv\")"
   ]
  },
  {
   "cell_type": "code",
   "execution_count": null,
   "metadata": {
    "collapsed": true
   },
   "outputs": [],
   "source": []
  }
 ],
 "metadata": {
  "anaconda-cloud": {},
  "kernelspec": {
   "display_name": "Python [conda root]",
   "language": "python",
   "name": "conda-root-py"
  },
  "language_info": {
   "codemirror_mode": {
    "name": "ipython",
    "version": 2
   },
   "file_extension": ".py",
   "mimetype": "text/x-python",
   "name": "python",
   "nbconvert_exporter": "python",
   "pygments_lexer": "ipython2",
   "version": "2.7.12"
  }
 },
 "nbformat": 4,
 "nbformat_minor": 1
}
